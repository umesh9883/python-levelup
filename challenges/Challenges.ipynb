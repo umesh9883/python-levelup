{
 "cells": [
  {
   "cell_type": "markdown",
   "id": "4789f234-4535-49b5-b47f-914866c980ea",
   "metadata": {},
   "source": [
    "# Challenge 1\n",
    "## Finding Prime Factors"
   ]
  },
  {
   "cell_type": "code",
   "execution_count": 1,
   "id": "a8f37e05-3e9f-44b6-b499-74844e1f6862",
   "metadata": {},
   "outputs": [],
   "source": [
    "def get_prime_factors1(n):\n",
    "    factors=[]\n",
    "    divisor=2\n",
    "    while divisor <= n:\n",
    "        if n % divisor == 0:\n",
    "            factors.append(divisor)\n",
    "            n=n//divisor\n",
    "        else:\n",
    "            divisor+=1\n",
    "    return factors"
   ]
  },
  {
   "cell_type": "code",
   "execution_count": 4,
   "id": "f4ec4713-67cc-41eb-8244-2c9fe8cb28fb",
   "metadata": {},
   "outputs": [
    {
     "name": "stdout",
     "output_type": "stream",
     "text": [
      "[2, 2, 5, 5]\n"
     ]
    }
   ],
   "source": [
    "factors=get_prime_factors1(100)\n",
    "print(factors)"
   ]
  },
  {
   "cell_type": "markdown",
   "id": "ee435aec-dae0-49ba-a8fd-d7a561bf4614",
   "metadata": {},
   "source": [
    "# Challenge 2\n",
    "## Palindrome"
   ]
  },
  {
   "cell_type": "code",
   "execution_count": 5,
   "id": "82af6cfa-d2ee-4669-847f-88de02badb9c",
   "metadata": {},
   "outputs": [],
   "source": [
    "def is_palindrome(sentence):\n",
    "    charlist= [x for x in sentence]\n",
    "    if charlist == charlist[::-1]:\n",
    "        return True"
   ]
  },
  {
   "cell_type": "code",
   "execution_count": 6,
   "id": "6a5a25e1-0c83-4866-b78b-e6a57f6cdcab",
   "metadata": {},
   "outputs": [
    {
     "data": {
      "text/plain": [
       "True"
      ]
     },
     "execution_count": 6,
     "metadata": {},
     "output_type": "execute_result"
    }
   ],
   "source": [
    "is_palindrome(\"malayalam\")"
   ]
  },
  {
   "cell_type": "markdown",
   "id": "0b5ada5c-b7af-4f46-91db-677e05a684e9",
   "metadata": {},
   "source": [
    "# Challenge 3\n",
    "## Sort Words"
   ]
  },
  {
   "cell_type": "code",
   "execution_count": 7,
   "id": "dd86426c-4b78-446e-a5cd-b1887e1241c4",
   "metadata": {},
   "outputs": [],
   "source": [
    "def sort_words(words):\n",
    "    return sorted(words.split(),key=str.casefold)"
   ]
  },
  {
   "cell_type": "code",
   "execution_count": 8,
   "id": "f0d4b62e-f820-43fb-a3ec-23f22f23d379",
   "metadata": {},
   "outputs": [
    {
     "data": {
      "text/plain": [
       "['Apple', 'banana', 'cat', 'Orange']"
      ]
     },
     "execution_count": 8,
     "metadata": {},
     "output_type": "execute_result"
    }
   ],
   "source": [
    "sort_words(\"Orange banana Apple cat\")"
   ]
  },
  {
   "cell_type": "code",
   "execution_count": null,
   "id": "60306420-3f59-4314-8d3f-1cc91685aff4",
   "metadata": {},
   "outputs": [],
   "source": []
  }
 ],
 "metadata": {
  "kernelspec": {
   "display_name": "Python 3 (ipykernel)",
   "language": "python",
   "name": "python3"
  },
  "language_info": {
   "codemirror_mode": {
    "name": "ipython",
    "version": 3
   },
   "file_extension": ".py",
   "mimetype": "text/x-python",
   "name": "python",
   "nbconvert_exporter": "python",
   "pygments_lexer": "ipython3",
   "version": "3.10.13"
  }
 },
 "nbformat": 4,
 "nbformat_minor": 5
}
