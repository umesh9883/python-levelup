{
 "cells": [
  {
   "cell_type": "markdown",
   "id": "4789f234-4535-49b5-b47f-914866c980ea",
   "metadata": {},
   "source": [
    "# Challenge 1\n",
    "## Finding Prime Factors"
   ]
  },
  {
   "cell_type": "code",
   "execution_count": null,
   "id": "a8f37e05-3e9f-44b6-b499-74844e1f6862",
   "metadata": {},
   "outputs": [],
   "source": [
    "def get_prime_factors1(n):\n",
    "    factors=[]\n",
    "    divisor=2\n",
    "    while divisor <= n:\n",
    "        if n % divisor == 0:\n",
    "            factors.append(divisor)\n",
    "            n=n//divisor\n",
    "        else:\n",
    "            divisor+=1\n",
    "    return factors"
   ]
  },
  {
   "cell_type": "code",
   "execution_count": null,
   "id": "f4ec4713-67cc-41eb-8244-2c9fe8cb28fb",
   "metadata": {},
   "outputs": [],
   "source": [
    "factors=get_prime_factors1(100)\n",
    "print(factors)"
   ]
  },
  {
   "cell_type": "markdown",
   "id": "ee435aec-dae0-49ba-a8fd-d7a561bf4614",
   "metadata": {},
   "source": [
    "# Challenge 2\n",
    "## Palindrome"
   ]
  },
  {
   "cell_type": "code",
   "execution_count": null,
   "id": "82af6cfa-d2ee-4669-847f-88de02badb9c",
   "metadata": {},
   "outputs": [],
   "source": [
    "def is_palindrome(sentence):\n",
    "    charlist= [x for x in sentence]\n",
    "    if charlist == charlist[::-1]:\n",
    "        return True"
   ]
  },
  {
   "cell_type": "code",
   "execution_count": null,
   "id": "6a5a25e1-0c83-4866-b78b-e6a57f6cdcab",
   "metadata": {},
   "outputs": [],
   "source": [
    "is_palindrome(\"malayalam\")"
   ]
  },
  {
   "cell_type": "markdown",
   "id": "0b5ada5c-b7af-4f46-91db-677e05a684e9",
   "metadata": {},
   "source": [
    "# Challenge 3\n",
    "## Sort Words"
   ]
  },
  {
   "cell_type": "code",
   "execution_count": null,
   "id": "dd86426c-4b78-446e-a5cd-b1887e1241c4",
   "metadata": {},
   "outputs": [],
   "source": [
    "def sort_words(words):\n",
    "    return sorted(words.split(),key=str.casefold)"
   ]
  },
  {
   "cell_type": "code",
   "execution_count": null,
   "id": "f0d4b62e-f820-43fb-a3ec-23f22f23d379",
   "metadata": {},
   "outputs": [],
   "source": [
    "sort_words(\"banana apple ORANGE\")"
   ]
  },
  {
   "cell_type": "markdown",
   "id": "e1dc1e8d-4e1e-44fe-861b-68593d126e2b",
   "metadata": {},
   "source": [
    "# Challenge 4\n",
    "## Find all List items"
   ]
  },
  {
   "cell_type": "code",
   "execution_count": null,
   "id": "91af31d1-3c86-4f98-ae4d-a205d95583ec",
   "metadata": {},
   "outputs": [],
   "source": [
    "def index_all(l,value):\n",
    "    indices=[]\n",
    "    for s in l:\n",
    "        if s==value:\n",
    "            indices.append(l.index(s))\n",
    "        elif type(s) is list:\n",
    "            indices.append(index_all(s,value))\n",
    "        #else:\n",
    "         #   indices.append(0)\n",
    "    return indices   "
   ]
  },
  {
   "cell_type": "code",
   "execution_count": null,
   "id": "5d9864ba-234b-44ab-b72b-1f1c62a8df3a",
   "metadata": {},
   "outputs": [],
   "source": [
    "example=[[[1,2,3],2,[1,3]],[1,2,3]]\n",
    "index_all(example,[1,2,3])"
   ]
  },
  {
   "cell_type": "markdown",
   "id": "9be50314-a6ef-4677-b9b4-4f6ae46111b8",
   "metadata": {},
   "source": [
    "# Challenge 5\n",
    "## Waiting Game"
   ]
  },
  {
   "cell_type": "code",
   "execution_count": null,
   "id": "64ca7983-1c12-445b-98bd-e11ffd130969",
   "metadata": {},
   "outputs": [],
   "source": [
    "import time\n",
    "import random\n",
    "def waiting_game():\n",
    "    target=random.randint(2,4)\n",
    "    input(f\"Your Target time is {target} seconds\\n----Press Enter to Begin the GAME!! ---\")\n",
    "    start=time.perf_counter()\n",
    "    input(f\"Press Enter again after you have waited for {target} seconds\")\n",
    "    elapsed=time.perf_counter()-start\n",
    "    print(f\"Elapsed Time : {elapsed:0.3f} seconds\")\n",
    "\n",
    "    if elapsed==target:\n",
    "        print(\"Unbelievable! Perfect Timing!\")\n",
    "    elif elapsed < target:\n",
    "        print(f\"{target-elapsed:0.3f} seconds fast\")\n",
    "    else:\n",
    "        print(f\"{elapsed-target:0.3f} seconds slow\")\n",
    "\n",
    "waiting_game()"
   ]
  },
  {
   "cell_type": "markdown",
   "id": "f798b7e4-3db7-4672-a83e-82f45d0080b7",
   "metadata": {},
   "source": [
    "# Challenge 6\n",
    "## Save a Dictionary\n"
   ]
  },
  {
   "cell_type": "code",
   "execution_count": null,
   "id": "70950873-1da9-41ba-9734-712bebf98447",
   "metadata": {},
   "outputs": [],
   "source": [
    "import json\n",
    "def save_dict(dictionary):\n",
    "    with open(\"test_dict.json\",\"w\") as outfile:\n",
    "        json.dump(dictionary,outfile)\n",
    "\n",
    "def read_dict(filename):\n",
    "    with open(filename,\"r\") as infile:\n",
    "        return json.load(infile)"
   ]
  },
  {
   "cell_type": "code",
   "execution_count": null,
   "id": "043c2de0-7321-44c1-95e0-e347693b1a03",
   "metadata": {},
   "outputs": [],
   "source": [
    "test_dict={\"1\":\"a\",\"2\":\"b\",\"3\":\"c\"}\n",
    "save_dict(test_dict)\n",
    "read_dict(\"test_dict.json\")"
   ]
  },
  {
   "cell_type": "markdown",
   "id": "852f541f-530d-449c-962a-b3ef5afda586",
   "metadata": {},
   "source": [
    "# Challenge 7\n",
    "## Schedule a function"
   ]
  },
  {
   "cell_type": "code",
   "execution_count": null,
   "id": "f070086f-0aec-4ab1-ae54-5ec18c1a92f5",
   "metadata": {},
   "outputs": [],
   "source": [
    "pip install schedule"
   ]
  },
  {
   "cell_type": "code",
   "execution_count": 12,
   "id": "186c1a2a-d37f-43bc-9929-13eb456d719a",
   "metadata": {},
   "outputs": [],
   "source": [
    "import schedule,time\n",
    "\n",
    "def printMessage():\n",
    "    print(\"Hi\")\n",
    "\n",
    "def wakeup(seconds, arg):\n",
    "    schedule.every(seconds).seconds.do(printMessage)    "
   ]
  },
  {
   "cell_type": "code",
   "execution_count": 14,
   "id": "070142f8-03be-4733-86e4-b05b18b3c67d",
   "metadata": {},
   "outputs": [],
   "source": [
    "wakeup(1,\"Hi Hello.\")"
   ]
  },
  {
   "cell_type": "markdown",
   "id": "828f401b-6938-44e9-8e44-8b523f786af6",
   "metadata": {},
   "source": [
    "# Challenge 7\n",
    "## Send an email\n"
   ]
  },
  {
   "cell_type": "code",
   "execution_count": 11,
   "id": "6c5ace4e-10ef-4f2c-b67b-1afc18bd20eb",
   "metadata": {},
   "outputs": [
    {
     "ename": "TabError",
     "evalue": "inconsistent use of tabs and spaces in indentation (1123602962.py, line 17)",
     "output_type": "error",
     "traceback": [
      "\u001b[0;36m  Cell \u001b[0;32mIn[11], line 17\u001b[0;36m\u001b[0m\n\u001b[0;31m    smtp.quit()\u001b[0m\n\u001b[0m    ^\u001b[0m\n\u001b[0;31mTabError\u001b[0m\u001b[0;31m:\u001b[0m inconsistent use of tabs and spaces in indentation\n"
     ]
    }
   ],
   "source": [
    "import smtplib\n",
    "from email.message import EmailMessage\n",
    "\n",
    "def send_email(receiver,subject,message):\n",
    "    EMAIL_ADDRESS = 'umesh9883@gmail.com'\n",
    "    EMAIL_PASSWORD = 'gnyw ndmh nfyk muzf'\n",
    "    \n",
    "    msg = EmailMessage()\n",
    "    msg['Subject'] = subject\n",
    "    msg['From'] = EMAIL_ADDRESS\n",
    "    msg['To'] = receiver\n",
    "    msg.set_content(message)\n",
    "    \n",
    "    with smtplib.SMTP_SSL('smtp.gmail.com', 465) as smtp:\n",
    "        smtp.login(EMAIL_ADDRESS, EMAIL_PASSWORD)\n",
    "    \tsmtp.send_message(msg)\n",
    "        smtp.quit()\n",
    "        print(f\"Sent Email Successfully to {receiver}\")"
   ]
  },
  {
   "cell_type": "code",
   "execution_count": 10,
   "id": "ebe45834-5771-4b84-9baa-ae2292b5d304",
   "metadata": {},
   "outputs": [],
   "source": [
    "message='''\n",
    "    <!DOCTYPE html>\n",
    "    <html>\n",
    "    <head>\n",
    "        <link rel=\"stylesheet\" type=\"text/css\" hs-webfonts=\"true\" href=\"https://fonts.googleapis.com/css?family=Lato|Lato:i,b,bi\">\n",
    "        <meta http-equiv=\"Content-Type\" content=\"text/html; charset=UTF-8\">\n",
    "        <meta name=\"viewport\" content=\"width=device-width, initial-scale=1.0\">\n",
    "        <style type=\"text/css\">\n",
    "          h1{font-size:56px}\n",
    "          h2{font-size:28px;font-weight:900}\n",
    "          p{font-weight:100}\n",
    "          td{vertical-align:top}\n",
    "          #email{margin:auto;width:600px;background-color:#fff}\n",
    "        </style>\n",
    "    </head>\n",
    "    <body bgcolor=\"#F5F8FA\" style=\"width: 100%; font-family:Lato, sans-serif; font-size:18px;\">\n",
    "    <div id=\"email\">\n",
    "        <table role=\"presentation\" width=\"100%\">\n",
    "            <tr>\n",
    "                <td bgcolor=\"#00A4BD\" align=\"center\" style=\"color: white;\">\n",
    "                    <h1> Welcome!</h1>\n",
    "                </td>\n",
    "        </table>\n",
    "        <table role=\"presentation\" border=\"0\" cellpadding=\"0\" cellspacing=\"10px\" style=\"padding: 30px 30px 30px 60px;\">\n",
    "            <tr>\n",
    "                <td>\n",
    "                    <h2>Custom stylized email</h2>\n",
    "                    <p>\n",
    "                        You can add HTML/CSS code here to stylize your emails.\n",
    "                    </p>\n",
    "                </td>\n",
    "            </tr>\n",
    "        </table>\n",
    "    </div>\n",
    "    </body>\n",
    "    </html>\n",
    "'''\n",
    "send_email([\"divyav1389@gmail.com\"],message)"
   ]
  }
 ],
 "metadata": {
  "kernelspec": {
   "display_name": "Python 3 (ipykernel)",
   "language": "python",
   "name": "python3"
  },
  "language_info": {
   "codemirror_mode": {
    "name": "ipython",
    "version": 3
   },
   "file_extension": ".py",
   "mimetype": "text/x-python",
   "name": "python",
   "nbconvert_exporter": "python",
   "pygments_lexer": "ipython3",
   "version": "3.10.13"
  }
 },
 "nbformat": 4,
 "nbformat_minor": 5
}
